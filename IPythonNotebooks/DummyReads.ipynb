{
 "metadata": {
  "name": "DummyReads"
 },
 "nbformat": 3,
 "nbformat_minor": 0,
 "worksheets": [
  {
   "cells": [
    {
     "cell_type": "code",
     "collapsed": false,
     "input": [
      "cd ~/data/current/DummySequence/vir50/"
     ],
     "language": "python",
     "metadata": {},
     "outputs": [
      {
       "output_type": "stream",
       "stream": "stdout",
       "text": [
        "/media/data/pacombs/Fall2012/DummySequence/vir50\n"
       ]
      }
     ],
     "prompt_number": 20
    },
    {
     "cell_type": "markdown",
     "metadata": {},
     "source": [
      "Using 100bp PE reads from _D. virilis_, trimmed to 50 bp, then mapped with:\n",
      "\n",
      "    tophat -p8 --no-novel-juncs --read-edit-dist 6 --no-discordant --no-mixed --no-sort-bam -G ../Reference/AAA/mel_only.gtf -o vir50/on_mel --transcriptome-index ../Reference/AAA/transcriptome/mel_only ../Reference/AAA/mel_only vir50_R1.fq.gz vir50_R2.fq.gz\n",
      "\n",
      "\n",
      "and a similar command for the virilis reference."
     ]
    },
    {
     "cell_type": "code",
     "collapsed": false,
     "input": [
      "import pysam\n",
      "from collections import defaultdict"
     ],
     "language": "python",
     "metadata": {},
     "outputs": [],
     "prompt_number": 4
    },
    {
     "cell_type": "code",
     "collapsed": false,
     "input": [
      "melsam = pysam.Samfile('on_mel/accepted_hits.bam')\n",
      "virsam = pysam.Samfile('on_vir/accepted_hits.bam')"
     ],
     "language": "python",
     "metadata": {},
     "outputs": [],
     "prompt_number": 14
    },
    {
     "cell_type": "code",
     "collapsed": false,
     "input": [
      "def get_read_tag(read, tag):\n",
      "    tag = tag.upper()\n",
      "    for t, val in read.tags:\n",
      "        if t.upper() == tag:\n",
      "            return val"
     ],
     "language": "python",
     "metadata": {},
     "outputs": [],
     "prompt_number": 15
    },
    {
     "cell_type": "code",
     "collapsed": false,
     "input": [
      "read_nms = [{}, {}]\n",
      "for read in melsam:\n",
      "    nm = get_read_tag(read, 'NM')\n",
      "    d = read_nms[read.is_read2]\n",
      "    if d.get(read.qname, 1000) > nm:\n",
      "        d[read.qname] = nm"
     ],
     "language": "python",
     "metadata": {},
     "outputs": [],
     "prompt_number": 16
    },
    {
     "cell_type": "code",
     "collapsed": false,
     "input": [
      "for read in virsam:\n",
      "    nm = get_read_tag(read, 'NM')\n",
      "    d = read_nms[read.is_read2]\n",
      "    qname = read.qname\n",
      "    if (qname in d) and (nm + 3 < d[qname]):\n",
      "        del d[qname]"
     ],
     "language": "python",
     "metadata": {},
     "outputs": [],
     "prompt_number": 17
    },
    {
     "cell_type": "code",
     "collapsed": false,
     "input": [
      "print len(read_nms[0]), len(read_nms[1])"
     ],
     "language": "python",
     "metadata": {},
     "outputs": [
      {
       "output_type": "stream",
       "stream": "stdout",
       "text": [
        "708759 510979\n"
       ]
      }
     ],
     "prompt_number": 18
    },
    {
     "cell_type": "code",
     "collapsed": false,
     "input": [
      "len(set(read_nms[0]).intersection(set(read_nms[1])))"
     ],
     "language": "python",
     "metadata": {},
     "outputs": [
      {
       "output_type": "pyout",
       "prompt_number": 19,
       "text": [
        "182003"
       ]
      }
     ],
     "prompt_number": 19
    },
    {
     "cell_type": "markdown",
     "metadata": {},
     "source": [
      "On Joint Mapping\n",
      "----------------\n",
      "\n",
      "It doesn't seem to make a huge difference whether we do the mapping on a joint data set, or on the each one individually, then combine. That being the case, it's (probably) faster to do it on the combined data set, then sort it out later."
     ]
    },
    {
     "cell_type": "code",
     "collapsed": false,
     "input": [
      "cd ~/data/current/DummySequence/vir50_on_melvir/"
     ],
     "language": "python",
     "metadata": {},
     "outputs": [
      {
       "output_type": "stream",
       "stream": "stdout",
       "text": [
        "/media/data/pacombs/Fall2012/DummySequence/vir50_on_melvir\n"
       ]
      }
     ],
     "prompt_number": 21
    },
    {
     "cell_type": "code",
     "collapsed": false,
     "input": [
      "strict_set = {read.qname for read in pysam.Samfile('assigned_dmel_strict.bam')}\n",
      "rescued_set = {read.qname for read in pysam.Samfile('assigned_dmel_rescued.bam')}"
     ],
     "language": "python",
     "metadata": {},
     "outputs": [],
     "prompt_number": 22
    },
    {
     "cell_type": "code",
     "collapsed": false,
     "input": [
      "list(strict_set.difference(rescued_set))[:10]"
     ],
     "language": "python",
     "metadata": {},
     "outputs": [
      {
       "output_type": "pyout",
       "prompt_number": 24,
       "text": [
        "['HS1:156:C0J28ACXX:7:1107:3891:93487',\n",
        " 'HS1:156:C0J28ACXX:7:1208:1149:96787',\n",
        " 'HS1:156:C0J28ACXX:7:2204:11465:115157',\n",
        " 'HS1:156:C0J28ACXX:7:2101:15280:174095',\n",
        " 'HS1:156:C0J28ACXX:7:2308:5212:113114',\n",
        " 'HS1:156:C0J28ACXX:7:1107:11392:125684',\n",
        " 'HS1:156:C0J28ACXX:7:1207:20057:35352',\n",
        " 'HS1:156:C0J28ACXX:7:2208:15425:121849',\n",
        " 'HS1:156:C0J28ACXX:7:1301:14871:71890',\n",
        " 'HS1:156:C0J28ACXX:7:2207:2187:190129']"
       ]
      }
     ],
     "prompt_number": 24
    },
    {
     "cell_type": "code",
     "collapsed": false,
     "input": [
      "path.walk?"
     ],
     "language": "python",
     "metadata": {},
     "outputs": [],
     "prompt_number": 47
    },
    {
     "cell_type": "code",
     "collapsed": false,
     "input": [],
     "language": "python",
     "metadata": {},
     "outputs": []
    }
   ],
   "metadata": {}
  }
 ]
}